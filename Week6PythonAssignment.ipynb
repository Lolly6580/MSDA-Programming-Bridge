{
 "metadata": {
  "name": "",
  "signature": "sha256:d3863d346d053a750abc950962c11c784068290628264a6d019714b11d9daf03"
 },
 "nbformat": 3,
 "nbformat_minor": 0,
 "worksheets": [
  {
   "cells": [
    {
     "cell_type": "code",
     "collapsed": false,
     "input": [
      "line1 = '1 Germany | W 3 | T 4 | W 2'\n"
     ],
     "language": "python",
     "metadata": {},
     "outputs": [],
     "prompt_number": 1
    },
    {
     "cell_type": "code",
     "collapsed": false,
     "input": [
      "import re\n",
      "rank = re.search('[0-9] ',line1)\n",
      "country = re.search('[A-Z][a-z]+ ',line1)\n",
      "results = re.findall('([A-Z] [0-9])', line1)\n",
      "\n"
     ],
     "language": "python",
     "metadata": {},
     "outputs": [],
     "prompt_number": 51
    },
    {
     "cell_type": "code",
     "collapsed": false,
     "input": [
      "print('Rank: ' + rank.group(0))\n",
      "print('Country: ' + country.group(0))\n",
      "print('Results: ')\n",
      "print(results[0])\n",
      "print(results[1])\n",
      "print(results[2])"
     ],
     "language": "python",
     "metadata": {},
     "outputs": [
      {
       "output_type": "stream",
       "stream": "stdout",
       "text": [
        "Rank: 1 \n",
        "Country: Germany \n",
        "Results: \n",
        "W 3\n",
        "T 4\n",
        "W 2\n"
       ]
      }
     ],
     "prompt_number": 56
    },
    {
     "cell_type": "code",
     "collapsed": false,
     "input": [],
     "language": "python",
     "metadata": {},
     "outputs": []
    }
   ],
   "metadata": {}
  }
 ]
}