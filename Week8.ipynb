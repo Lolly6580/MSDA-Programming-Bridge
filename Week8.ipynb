{
 "metadata": {
  "name": "",
  "signature": "sha256:34d9840a713f4f9b90c1007ad2426ffd34ec1d23547d1abac9a382289ca6a0cd"
 },
 "nbformat": 3,
 "nbformat_minor": 0,
 "worksheets": [
  {
   "cells": [
    {
     "cell_type": "code",
     "collapsed": false,
     "input": [
      "import sqlite3\n",
      "conn = sqlite3.connect('chiropractic.sqlite')\n",
      "cur = conn.cursor()\n",
      "cur.execute('DROP TABLE IF EXISTS Patients ')\n",
      "cur.execute('CREATE TABLE Patients (customerid INTEGER PRIMARY KEY, name TEXT, address TEXT, city TEXT, state TEXT, zip INTEGER)')\n",
      "cur.execute('DROP TABLE IF EXISTS Appointments ')\n",
      "cur.execute('CREATE TABLE Appointments (appointmentid INTEGER PRIMARY KEY, customerid INTEGER, apptdatetime DATETIME)')\n",
      "cur.execute('INSERT INTO Patients (name, address, city, state, zip) VALUES (?,?,?,?,?)',\n",
      "            ('Lara Burford','623 Windingway Road','Lynchburg','VA','24502'))\n",
      "cur.execute('INSERT INTO Patients (name, address, city, state, zip) VALUES (?,?,?,?,?)',\n",
      "            ('Bryan Burford','623 Windingway Road','Lynchburg','VA','24502'))\n",
      "cur.execute('INSERT INTO Patients (name, address, city, state, zip) VALUES (?,?,?,?,?)',\n",
      "            ('Linda Garraghty','6280 Goode Road','Goode','VA','24556'))\n",
      "cur.execute('INSERT INTO Appointments (customerid, apptdatetime) VALUES(?,?)',\n",
      "            ('2','2014-08-15 10:30:00'))\n",
      "cur.execute('INSERT INTO Appointments (customerid, apptdatetime) VALUES(?,?)',\n",
      "            ('1','2014-10-28 08:00:00'))\n",
      "cur.execute('INSERT INTO Appointments (customerid, apptdatetime) VALUES(?,?)',\n",
      "            ('3','2014-9-2 12:15:00'))\n",
      "conn.commit()\n",
      "cur.execute('''SELECT \n",
      "Patients.name AS 'Patient Name',\n",
      "Appointments.apptdatetime AS 'Appointment' \n",
      "FROM Patients \n",
      "LEFT JOIN Appointments ON Patients.customerid = Appointments.customerid''')\n",
      "for row in cur :\n",
      "    print(row)\n",
      "cur.close()"
     ],
     "language": "python",
     "metadata": {},
     "outputs": [
      {
       "output_type": "stream",
       "stream": "stdout",
       "text": [
        "('Lara Burford', '2014-10-28 08:00:00')\n",
        "('Bryan Burford', '2014-08-15 10:30:00')\n",
        "('Linda Garraghty', '2014-9-2 12:15:00')\n"
       ]
      }
     ],
     "prompt_number": 13
    },
    {
     "cell_type": "code",
     "collapsed": false,
     "input": [],
     "language": "python",
     "metadata": {},
     "outputs": []
    }
   ],
   "metadata": {}
  }
 ]
}