{
 "metadata": {
  "name": "",
  "signature": "sha256:b1a496a9fc6bf7ecc1b370c439e8a5007c84cc350947db88ce2b7e7a86fae258"
 },
 "nbformat": 3,
 "nbformat_minor": 0,
 "worksheets": [
  {
   "cells": [
    {
     "cell_type": "code",
     "collapsed": false,
     "input": [
      "import csv\n",
      "with open('u.item',newline='') as csvfile:\n",
      "    moviereader = csv.reader(csvfile,delimiter='|')\n",
      "    for line in moviereader:\n",
      "        publish = line[2].find('1959')\n",
      "        if publish != -1:\n",
      "            print(line[1])"
     ],
     "language": "python",
     "metadata": {},
     "outputs": [
      {
       "output_type": "stream",
       "stream": "stdout",
       "text": [
        "North by Northwest (1959)\n",
        "Some Like It Hot (1959)\n",
        "Ben-Hur (1959)\n",
        "Shaggy Dog, The (1959)\n"
       ]
      }
     ],
     "prompt_number": 31
    },
    {
     "cell_type": "code",
     "collapsed": false,
     "input": [],
     "language": "python",
     "metadata": {},
     "outputs": []
    }
   ],
   "metadata": {}
  }
 ]
}